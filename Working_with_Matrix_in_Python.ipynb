{
  "nbformat": 4,
  "nbformat_minor": 0,
  "metadata": {
    "colab": {
      "provenance": [],
      "authorship_tag": "ABX9TyOVl/H7UscdDe8KDROqcygZ",
      "include_colab_link": true
    },
    "kernelspec": {
      "name": "python3",
      "display_name": "Python 3"
    },
    "language_info": {
      "name": "python"
    }
  },
  "cells": [
    {
      "cell_type": "markdown",
      "metadata": {
        "id": "view-in-github",
        "colab_type": "text"
      },
      "source": [
        "<a href=\"https://colab.research.google.com/github/SwarupD21/Machine-Learning-Basics/blob/main/Working_with_Matrix_in_Python.ipynb\" target=\"_parent\"><img src=\"https://colab.research.google.com/assets/colab-badge.svg\" alt=\"Open In Colab\"/></a>"
      ]
    },
    {
      "cell_type": "code",
      "execution_count": null,
      "metadata": {
        "id": "JI5wcJm-3qdG"
      },
      "outputs": [],
      "source": [
        "import numpy as np"
      ]
    },
    {
      "cell_type": "markdown",
      "source": [
        "**Creating a matrix using Numpy**"
      ],
      "metadata": {
        "id": "UNdzYeEj55OF"
      }
    },
    {
      "cell_type": "code",
      "source": [
        "matrix_1= np.array([[2,3],[6,7]])\n",
        "print(matrix_1)"
      ],
      "metadata": {
        "colab": {
          "base_uri": "https://localhost:8080/"
        },
        "id": "vqJpbS8P54nu",
        "outputId": "6bc9d50f-47ab-47fc-ac1d-5aa712043348"
      },
      "execution_count": null,
      "outputs": [
        {
          "output_type": "stream",
          "name": "stdout",
          "text": [
            "[[2 3]\n",
            " [6 7]]\n"
          ]
        }
      ]
    },
    {
      "cell_type": "code",
      "source": [
        "matrix_1.shape"
      ],
      "metadata": {
        "colab": {
          "base_uri": "https://localhost:8080/"
        },
        "id": "2sU6oR4c6Mqu",
        "outputId": "ede1dd66-d1f7-4eb5-9a8e-a2606e97752e"
      },
      "execution_count": null,
      "outputs": [
        {
          "output_type": "execute_result",
          "data": {
            "text/plain": [
              "(2, 2)"
            ]
          },
          "metadata": {},
          "execution_count": 3
        }
      ]
    },
    {
      "cell_type": "code",
      "source": [
        "matrix2=np.array([[5,6,9],[1,2,4],[3,7,8]])\n",
        "print(matrix2)"
      ],
      "metadata": {
        "colab": {
          "base_uri": "https://localhost:8080/"
        },
        "id": "ktAsLtJi6RyS",
        "outputId": "3c980311-c430-4a40-d401-2fe02d254f7c"
      },
      "execution_count": null,
      "outputs": [
        {
          "output_type": "stream",
          "name": "stdout",
          "text": [
            "[[5 6 9]\n",
            " [1 2 4]\n",
            " [3 7 8]]\n"
          ]
        }
      ]
    },
    {
      "cell_type": "code",
      "source": [
        "matrix2.shape"
      ],
      "metadata": {
        "colab": {
          "base_uri": "https://localhost:8080/"
        },
        "id": "_zLDBHsr6hgZ",
        "outputId": "8b1e71dd-3ddd-46f9-e072-0965315f932c"
      },
      "execution_count": null,
      "outputs": [
        {
          "output_type": "execute_result",
          "data": {
            "text/plain": [
              "(3, 3)"
            ]
          },
          "metadata": {},
          "execution_count": 5
        }
      ]
    },
    {
      "cell_type": "markdown",
      "source": [
        "**Matrices with Random Values**"
      ],
      "metadata": {
        "id": "IvtqOfeU6nIw"
      }
    },
    {
      "cell_type": "code",
      "source": [
        "mat3=np.random.rand(3,3)"
      ],
      "metadata": {
        "id": "E3dDHFIt6kru"
      },
      "execution_count": null,
      "outputs": []
    },
    {
      "cell_type": "code",
      "source": [
        "print(mat3)"
      ],
      "metadata": {
        "colab": {
          "base_uri": "https://localhost:8080/"
        },
        "id": "Caa2qbtL6yM9",
        "outputId": "7b848994-c543-4f0a-e62c-018eb88a3332"
      },
      "execution_count": null,
      "outputs": [
        {
          "output_type": "stream",
          "name": "stdout",
          "text": [
            "[[0.75348583 0.19713079 0.60975499]\n",
            " [0.78819754 0.06708877 0.18008033]\n",
            " [0.26604481 0.64854584 0.27453619]]\n"
          ]
        }
      ]
    },
    {
      "cell_type": "markdown",
      "source": [
        "**matrix with random integers**"
      ],
      "metadata": {
        "id": "oUX37-3q7Ayc"
      }
    },
    {
      "cell_type": "code",
      "source": [
        "mat4=np.random.randint(100,size=(3,3))\n",
        "print(mat4)"
      ],
      "metadata": {
        "colab": {
          "base_uri": "https://localhost:8080/"
        },
        "id": "f739XWYR60BZ",
        "outputId": "b7ec7280-df35-4a9c-b010-c1726f27875e"
      },
      "execution_count": null,
      "outputs": [
        {
          "output_type": "stream",
          "name": "stdout",
          "text": [
            "[[56 30 19]\n",
            " [89 99 96]\n",
            " [ 9 99 85]]\n"
          ]
        }
      ]
    },
    {
      "cell_type": "markdown",
      "source": [
        "**1's Matrix**"
      ],
      "metadata": {
        "id": "HW6h4ZSI7WuC"
      }
    },
    {
      "cell_type": "code",
      "source": [
        "mat5=np.ones((2,3),dtype=int)\n",
        "print(mat5)"
      ],
      "metadata": {
        "colab": {
          "base_uri": "https://localhost:8080/"
        },
        "id": "Y_-9TQsY7Obj",
        "outputId": "d0f9fda4-bcf5-4c7a-d45b-b6111b24a9de"
      },
      "execution_count": null,
      "outputs": [
        {
          "output_type": "stream",
          "name": "stdout",
          "text": [
            "[[1 1 1]\n",
            " [1 1 1]]\n"
          ]
        }
      ]
    },
    {
      "cell_type": "markdown",
      "source": [
        "**Null Matrix**"
      ],
      "metadata": {
        "id": "xJN_N7p87307"
      }
    },
    {
      "cell_type": "code",
      "source": [
        "mat6=np.zeros((4,5),dtype=int)"
      ],
      "metadata": {
        "id": "vUgyuEN37d0o"
      },
      "execution_count": null,
      "outputs": []
    },
    {
      "cell_type": "code",
      "source": [
        "print(mat6)"
      ],
      "metadata": {
        "colab": {
          "base_uri": "https://localhost:8080/"
        },
        "id": "vTxEBfdv8CI-",
        "outputId": "c299cf64-386f-4cbb-c40f-7663d5925f8d"
      },
      "execution_count": null,
      "outputs": [
        {
          "output_type": "stream",
          "name": "stdout",
          "text": [
            "[[0 0 0 0 0]\n",
            " [0 0 0 0 0]\n",
            " [0 0 0 0 0]\n",
            " [0 0 0 0 0]]\n"
          ]
        }
      ]
    },
    {
      "cell_type": "markdown",
      "source": [
        "**Identity Matrix**"
      ],
      "metadata": {
        "id": "nB0rIQga8JIf"
      }
    },
    {
      "cell_type": "code",
      "source": [
        "mat7=np.eye(4,5,dtype=int)\n",
        "print(mat7)"
      ],
      "metadata": {
        "colab": {
          "base_uri": "https://localhost:8080/"
        },
        "id": "Lrm_fKKN8DbI",
        "outputId": "b017765a-4537-49a8-98df-bc5f599484ab"
      },
      "execution_count": null,
      "outputs": [
        {
          "output_type": "stream",
          "name": "stdout",
          "text": [
            "[[1 0 0 0 0]\n",
            " [0 1 0 0 0]\n",
            " [0 0 1 0 0]\n",
            " [0 0 0 1 0]]\n"
          ]
        }
      ]
    },
    {
      "cell_type": "markdown",
      "source": [
        "**Transpose Matrix**"
      ],
      "metadata": {
        "id": "heCujXdw8f4a"
      }
    },
    {
      "cell_type": "code",
      "source": [
        "mat8=np.random.randint(100,size=(4,5))\n",
        "print(mat8)\n",
        "transofmat8=np.transpose(mat8)"
      ],
      "metadata": {
        "colab": {
          "base_uri": "https://localhost:8080/"
        },
        "id": "Wpa2AaKL8Shh",
        "outputId": "80dcd0d6-633d-470d-dcc0-83ad0045d3f7"
      },
      "execution_count": null,
      "outputs": [
        {
          "output_type": "stream",
          "name": "stdout",
          "text": [
            "[[64 70 92 26 56]\n",
            " [54 74 27 40 14]\n",
            " [38 93 38 34 52]\n",
            " [80 16 22 46  0]]\n"
          ]
        }
      ]
    },
    {
      "cell_type": "code",
      "source": [
        "print(transofmat8)"
      ],
      "metadata": {
        "colab": {
          "base_uri": "https://localhost:8080/"
        },
        "id": "9V0XGMcb8wQz",
        "outputId": "f24a20cf-658d-4469-851b-f5739153d20a"
      },
      "execution_count": null,
      "outputs": [
        {
          "output_type": "stream",
          "name": "stdout",
          "text": [
            "[[64 54 38 80]\n",
            " [70 74 93 16]\n",
            " [92 27 38 22]\n",
            " [26 40 34 46]\n",
            " [56 14 52  0]]\n"
          ]
        }
      ]
    },
    {
      "cell_type": "code",
      "source": [],
      "metadata": {
        "id": "CEYlqZ_48x5I"
      },
      "execution_count": null,
      "outputs": []
    }
  ]
}