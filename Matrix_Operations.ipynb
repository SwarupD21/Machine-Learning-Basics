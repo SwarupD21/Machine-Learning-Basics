{
  "nbformat": 4,
  "nbformat_minor": 0,
  "metadata": {
    "colab": {
      "provenance": [],
      "authorship_tag": "ABX9TyO4hWo9kCWJj8vM+iNVqGwx",
      "include_colab_link": true
    },
    "kernelspec": {
      "name": "python3",
      "display_name": "Python 3"
    },
    "language_info": {
      "name": "python"
    }
  },
  "cells": [
    {
      "cell_type": "markdown",
      "metadata": {
        "id": "view-in-github",
        "colab_type": "text"
      },
      "source": [
        "<a href=\"https://colab.research.google.com/github/SwarupD21/Machine-Learning-Basics/blob/main/Matrix_Operations.ipynb\" target=\"_parent\"><img src=\"https://colab.research.google.com/assets/colab-badge.svg\" alt=\"Open In Colab\"/></a>"
      ]
    },
    {
      "cell_type": "code",
      "execution_count": null,
      "metadata": {
        "id": "8Jdo2wUvCQA4"
      },
      "outputs": [],
      "source": [
        "import numpy as np"
      ]
    },
    {
      "cell_type": "code",
      "source": [
        "a=np.random.randint(8,size=(2,3))\n",
        "b=np.random.randint(8,size=(2,3))"
      ],
      "metadata": {
        "id": "A3Fl1a0UCVdk"
      },
      "execution_count": null,
      "outputs": []
    },
    {
      "cell_type": "code",
      "source": [
        "print(a)"
      ],
      "metadata": {
        "colab": {
          "base_uri": "https://localhost:8080/"
        },
        "id": "B4uopxeECcg4",
        "outputId": "ef30f49e-6a41-4e66-edd6-8a08f28f48c4"
      },
      "execution_count": null,
      "outputs": [
        {
          "output_type": "stream",
          "name": "stdout",
          "text": [
            "[[5 0 3]\n",
            " [5 4 3]]\n"
          ]
        }
      ]
    },
    {
      "cell_type": "code",
      "source": [
        "a.shape"
      ],
      "metadata": {
        "colab": {
          "base_uri": "https://localhost:8080/"
        },
        "id": "vwlCLWY6CdmO",
        "outputId": "c7baa645-e111-4022-d1a5-ee0ee1ceed6e"
      },
      "execution_count": null,
      "outputs": [
        {
          "output_type": "execute_result",
          "data": {
            "text/plain": [
              "(2, 3)"
            ]
          },
          "metadata": {},
          "execution_count": 4
        }
      ]
    },
    {
      "cell_type": "code",
      "source": [
        "print(b)"
      ],
      "metadata": {
        "colab": {
          "base_uri": "https://localhost:8080/"
        },
        "id": "wSKSGN6ACe1W",
        "outputId": "bf41461d-30c4-4987-de8e-dfb831d121e9"
      },
      "execution_count": null,
      "outputs": [
        {
          "output_type": "stream",
          "name": "stdout",
          "text": [
            "[[3 5 6]\n",
            " [6 1 1]]\n"
          ]
        }
      ]
    },
    {
      "cell_type": "code",
      "source": [
        "b.shape"
      ],
      "metadata": {
        "colab": {
          "base_uri": "https://localhost:8080/"
        },
        "id": "izkWpR9NCgLf",
        "outputId": "0032ae0c-816c-4291-eaf0-0315ab7477e3"
      },
      "execution_count": null,
      "outputs": [
        {
          "output_type": "execute_result",
          "data": {
            "text/plain": [
              "(2, 3)"
            ]
          },
          "metadata": {},
          "execution_count": 6
        }
      ]
    },
    {
      "cell_type": "markdown",
      "source": [
        "**Addition of Matrix**"
      ],
      "metadata": {
        "id": "3o-4DLjaCk4I"
      }
    },
    {
      "cell_type": "code",
      "source": [
        "summ=np.add(a,b)\n",
        "print(summ)"
      ],
      "metadata": {
        "colab": {
          "base_uri": "https://localhost:8080/"
        },
        "id": "4o23NnmWCir7",
        "outputId": "b789ec75-f6fc-4c6a-a910-f676a27befd9"
      },
      "execution_count": null,
      "outputs": [
        {
          "output_type": "stream",
          "name": "stdout",
          "text": [
            "[[ 8  5  9]\n",
            " [11  5  4]]\n"
          ]
        }
      ]
    },
    {
      "cell_type": "markdown",
      "source": [
        "**Subtraction of Matrix**"
      ],
      "metadata": {
        "id": "SfIgQNQFCxQ1"
      }
    },
    {
      "cell_type": "code",
      "source": [
        "sub=np.subtract(a,b)"
      ],
      "metadata": {
        "id": "bHJXGMlsCr4S"
      },
      "execution_count": null,
      "outputs": []
    },
    {
      "cell_type": "code",
      "source": [
        "print(sub)"
      ],
      "metadata": {
        "colab": {
          "base_uri": "https://localhost:8080/"
        },
        "id": "s-9888mqC2cd",
        "outputId": "b13732b6-f8bd-4ac4-cfb5-589910fa44ee"
      },
      "execution_count": null,
      "outputs": [
        {
          "output_type": "stream",
          "name": "stdout",
          "text": [
            "[[ 2 -5 -3]\n",
            " [-1  3  2]]\n"
          ]
        }
      ]
    },
    {
      "cell_type": "markdown",
      "source": [
        "**Matrix Multiplication**"
      ],
      "metadata": {
        "id": "deCjc89xC5R6"
      }
    },
    {
      "cell_type": "code",
      "source": [
        "scalar_mul=np.multiply(5,a)\n",
        "print(scalar_mul)"
      ],
      "metadata": {
        "colab": {
          "base_uri": "https://localhost:8080/"
        },
        "id": "xCPZvYwhC4Q7",
        "outputId": "1f90586d-7a7d-4540-ed92-f60423f704e7"
      },
      "execution_count": null,
      "outputs": [
        {
          "output_type": "stream",
          "name": "stdout",
          "text": [
            "[[25  0 15]\n",
            " [25 20 15]]\n"
          ]
        }
      ]
    },
    {
      "cell_type": "code",
      "source": [
        "mul=np.multiply(a,b)\n",
        "print(mul)"
      ],
      "metadata": {
        "colab": {
          "base_uri": "https://localhost:8080/"
        },
        "id": "pO2kLnWNDBiE",
        "outputId": "8d9281b5-4fcb-4361-fa0d-58afbd168076"
      },
      "execution_count": null,
      "outputs": [
        {
          "output_type": "stream",
          "name": "stdout",
          "text": [
            "[[15  0 18]\n",
            " [30  4  3]]\n"
          ]
        }
      ]
    },
    {
      "cell_type": "code",
      "source": [],
      "metadata": {
        "id": "8_h1ncRKDFzT"
      },
      "execution_count": null,
      "outputs": []
    }
  ]
}